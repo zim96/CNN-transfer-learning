{
 "cells": [
  {
   "cell_type": "code",
   "execution_count": 1,
   "metadata": {
    "scrolled": true,
    "tags": []
   },
   "outputs": [
    {
     "output_type": "stream",
     "name": "stdout",
     "text": "<TensorSliceDataset shapes: (), types: tf.string>\n<TensorSliceDataset shapes: (), types: tf.string>\n(249, 2)\n(165, 2)\n"
    }
   ],
   "source": [
    "import numpy as np\n",
    "import tensorflow as tf\n",
    "from tensorflow import keras\n",
    "import matplotlib.pyplot as plt\n",
    "from matplotlib.image import imread\n",
    "\n",
    "# Create dataset of image paths in train folder\n",
    "cap_ds = tf.data.Dataset.list_files(str(\"./cap_nocap_dataset/cap/*.jpg\"), shuffle=False)\n",
    "nocap_ds = tf.data.Dataset.list_files(str(\"./cap_nocap_dataset/nocap/*.jpg\"), shuffle=False)\n",
    "# noperson_ds = tf.data.Dataset.list_files(str(\"./cap_nocap_dataset/noperson/*.jpg\"), shuffle=False)\n",
    "print(cap_ds)\n",
    "print(nocap_ds)\n",
    "# print(noperson_ds)\n",
    "\n",
    "# Create list of class indices\n",
    "label_names = ['person_cap', 'person_nocap']\n",
    "cap_target_ds = [0 for cap in cap_ds]\n",
    "nocap_target_ds = [1 for nocap in nocap_ds]\n",
    "\n",
    "# Encode class indices in one-hot form\n",
    "cap_target_ds = tf.one_hot(cap_target_ds, len(label_names), on_value=1.0, off_value=0.0)\n",
    "nocap_target_ds = tf.one_hot(nocap_target_ds, len(label_names), on_value=1.0, off_value=0.0)\n",
    "# noperson_target_ds = tf.zeros([116,2])\n",
    "\n",
    "print(cap_target_ds.shape)\n",
    "print(nocap_target_ds.shape)\n",
    "# print(noperson_target_ds.shape)\n",
    "\n",
    "cap_target_ds = tf.data.Dataset.from_tensor_slices(cap_target_ds)\n",
    "nocap_target_ds = tf.data.Dataset.from_tensor_slices(nocap_target_ds)\n",
    "# noperson_target_ds = tf.data.Dataset.from_tensor_slices(noperson_target_ds)"
   ]
  },
  {
   "cell_type": "code",
   "execution_count": 2,
   "metadata": {},
   "outputs": [],
   "source": [
    "# Helper function to read images and pre-process images\n",
    "# InceptionV3 accepts input of size (299,299,3)\n",
    "# The input range is (-1,1)\n",
    "def readImages_gray(path):\n",
    "    image = tf.io.read_file(path)\n",
    "    image = tf.io.decode_jpeg(image)\n",
    "    image = tf.image.resize_with_pad(image, 299, 299)\n",
    "    image = tf.image.grayscale_to_rgb(image)\n",
    "    image = keras.applications.inception_v3.preprocess_input(image)\n",
    "\n",
    "    return image\n",
    "\n",
    "def readImages(path):\n",
    "    image = tf.io.read_file(path)\n",
    "    image = tf.io.decode_jpeg(image)\n",
    "    image = tf.image.resize_with_pad(image, 299, 299)\n",
    "    image = keras.applications.inception_v3.preprocess_input(image)\n",
    "\n",
    "    return image"
   ]
  },
  {
   "cell_type": "code",
   "execution_count": 3,
   "metadata": {
    "tags": []
   },
   "outputs": [
    {
     "output_type": "stream",
     "name": "stdout",
     "text": "Path: tf.Tensor(b'.\\\\cap_nocap_dataset\\\\cap\\\\0_0.jpg', shape=(), dtype=string)\nLabel: tf.Tensor([1. 0.], shape=(2,), dtype=float32)\n(299, 299, 1)\n1.0\n-1.0\n"
    }
   ],
   "source": [
    "# print some information to check on images, label and target\n",
    "path = next(iter(cap_ds))\n",
    "image = readImages(path)\n",
    "\n",
    "print(\"Path: \" + str(path))\n",
    "print(\"Label: \" + str(next(iter(cap_target_ds))))\n",
    "print(image.shape)\n",
    "print(np.max(image))\n",
    "print(np.min(image))"
   ]
  },
  {
   "cell_type": "code",
   "execution_count": 4,
   "metadata": {
    "tags": []
   },
   "outputs": [
    {
     "output_type": "stream",
     "name": "stdout",
     "text": "<MapDataset shapes: (299, 299, 3), types: tf.float32>\n<MapDataset shapes: (299, 299, 3), types: tf.float32>\n"
    }
   ],
   "source": [
    "# Create dataset of input data, pre-processed images and target\n",
    "cap_images_ds = cap_ds.map(readImages_gray)\n",
    "nocap_images_ds = nocap_ds.map(readImages_gray)\n",
    "# noperson_images_ds = noperson_ds.map(readImages)\n",
    "\n",
    "print(cap_images_ds)\n",
    "print(nocap_images_ds)\n",
    "# print(noperson_images_ds)"
   ]
  },
  {
   "cell_type": "code",
   "execution_count": 5,
   "metadata": {
    "tags": []
   },
   "outputs": [
    {
     "output_type": "stream",
     "name": "stdout",
     "text": "<ConcatenateDataset shapes: (299, 299, 3), types: tf.float32>\n<ConcatenateDataset shapes: (2,), types: tf.float32>\n<ConcatenateDataset shapes: (299, 299, 3), types: tf.float32>\n<ConcatenateDataset shapes: (2,), types: tf.float32>\n<BatchDataset shapes: ((None, 299, 299, 3), (None, 2)), types: (tf.float32, tf.float32)>\n<BatchDataset shapes: ((None, 299, 299, 3), (None, 2)), types: (tf.float32, tf.float32)>\n"
    }
   ],
   "source": [
    "# Create train and test datasets from input and target datasets of all 3 labels\n",
    "test_images_ds = cap_images_ds.take(16).concatenate(nocap_images_ds.take(16))\n",
    "test_target_ds = cap_target_ds.take(16).concatenate(nocap_target_ds.take(16))\n",
    "\n",
    "print(test_images_ds)\n",
    "print(test_target_ds)\n",
    "\n",
    "train_images_ds = cap_images_ds.concatenate(nocap_images_ds)\n",
    "train_target_ds = cap_target_ds.concatenate(nocap_target_ds)\n",
    "\n",
    "print(train_images_ds)\n",
    "print(train_target_ds)\n",
    "\n",
    "test_ds = tf.data.Dataset.zip((test_images_ds, test_target_ds))\n",
    "train_ds = tf.data.Dataset.zip((train_images_ds, train_target_ds))\n",
    "\n",
    "test_ds = test_ds.shuffle(64)\n",
    "test_ds = test_ds.batch(8)\n",
    "\n",
    "train_ds = train_ds.shuffle(512)\n",
    "train_ds = train_ds.batch(8)\n",
    "\n",
    "print(test_ds)\n",
    "print(train_ds)"
   ]
  },
  {
   "cell_type": "code",
   "execution_count": 10,
   "metadata": {
    "tags": [
     "outputPrepend"
    ]
   },
   "outputs": [
    {
     "output_type": "stream",
     "name": "stdout",
     "text": "             \n__________________________________________________________________________________________________\nbatch_normalization_69 (BatchNo (None, 17, 17, 192)  576         conv2d_69[0][0]                  \n__________________________________________________________________________________________________\nactivation_60 (Activation)      (None, 17, 17, 192)  0           batch_normalization_60[0][0]     \n__________________________________________________________________________________________________\nactivation_63 (Activation)      (None, 17, 17, 192)  0           batch_normalization_63[0][0]     \n__________________________________________________________________________________________________\nactivation_68 (Activation)      (None, 17, 17, 192)  0           batch_normalization_68[0][0]     \n__________________________________________________________________________________________________\nactivation_69 (Activation)      (None, 17, 17, 192)  0           batch_normalization_69[0][0]     \n__________________________________________________________________________________________________\nmixed7 (Concatenate)            (None, 17, 17, 768)  0           activation_60[0][0]              \n                                                                 activation_63[0][0]              \n                                                                 activation_68[0][0]              \n                                                                 activation_69[0][0]              \n__________________________________________________________________________________________________\nconv2d_72 (Conv2D)              (None, 17, 17, 192)  147456      mixed7[0][0]                     \n__________________________________________________________________________________________________\nbatch_normalization_72 (BatchNo (None, 17, 17, 192)  576         conv2d_72[0][0]                  \n__________________________________________________________________________________________________\nactivation_72 (Activation)      (None, 17, 17, 192)  0           batch_normalization_72[0][0]     \n__________________________________________________________________________________________________\nconv2d_73 (Conv2D)              (None, 17, 17, 192)  258048      activation_72[0][0]              \n__________________________________________________________________________________________________\nbatch_normalization_73 (BatchNo (None, 17, 17, 192)  576         conv2d_73[0][0]                  \n__________________________________________________________________________________________________\nactivation_73 (Activation)      (None, 17, 17, 192)  0           batch_normalization_73[0][0]     \n__________________________________________________________________________________________________\nconv2d_70 (Conv2D)              (None, 17, 17, 192)  147456      mixed7[0][0]                     \n__________________________________________________________________________________________________\nconv2d_74 (Conv2D)              (None, 17, 17, 192)  258048      activation_73[0][0]              \n__________________________________________________________________________________________________\nbatch_normalization_70 (BatchNo (None, 17, 17, 192)  576         conv2d_70[0][0]                  \n__________________________________________________________________________________________________\nbatch_normalization_74 (BatchNo (None, 17, 17, 192)  576         conv2d_74[0][0]                  \n__________________________________________________________________________________________________\nactivation_70 (Activation)      (None, 17, 17, 192)  0           batch_normalization_70[0][0]     \n__________________________________________________________________________________________________\nactivation_74 (Activation)      (None, 17, 17, 192)  0           batch_normalization_74[0][0]     \n__________________________________________________________________________________________________\nconv2d_71 (Conv2D)              (None, 8, 8, 320)    552960      activation_70[0][0]              \n__________________________________________________________________________________________________\nconv2d_75 (Conv2D)              (None, 8, 8, 192)    331776      activation_74[0][0]              \n__________________________________________________________________________________________________\nbatch_normalization_71 (BatchNo (None, 8, 8, 320)    960         conv2d_71[0][0]                  \n__________________________________________________________________________________________________\nbatch_normalization_75 (BatchNo (None, 8, 8, 192)    576         conv2d_75[0][0]                  \n__________________________________________________________________________________________________\nactivation_71 (Activation)      (None, 8, 8, 320)    0           batch_normalization_71[0][0]     \n__________________________________________________________________________________________________\nactivation_75 (Activation)      (None, 8, 8, 192)    0           batch_normalization_75[0][0]     \n__________________________________________________________________________________________________\nmax_pooling2d_3 (MaxPooling2D)  (None, 8, 8, 768)    0           mixed7[0][0]                     \n__________________________________________________________________________________________________\nmixed8 (Concatenate)            (None, 8, 8, 1280)   0           activation_71[0][0]              \n                                                                 activation_75[0][0]              \n                                                                 max_pooling2d_3[0][0]            \n__________________________________________________________________________________________________\nconv2d_80 (Conv2D)              (None, 8, 8, 448)    573440      mixed8[0][0]                     \n__________________________________________________________________________________________________\nbatch_normalization_80 (BatchNo (None, 8, 8, 448)    1344        conv2d_80[0][0]                  \n__________________________________________________________________________________________________\nactivation_80 (Activation)      (None, 8, 8, 448)    0           batch_normalization_80[0][0]     \n__________________________________________________________________________________________________\nconv2d_77 (Conv2D)              (None, 8, 8, 384)    491520      mixed8[0][0]                     \n__________________________________________________________________________________________________\nconv2d_81 (Conv2D)              (None, 8, 8, 384)    1548288     activation_80[0][0]              \n__________________________________________________________________________________________________\nbatch_normalization_77 (BatchNo (None, 8, 8, 384)    1152        conv2d_77[0][0]                  \n__________________________________________________________________________________________________\nbatch_normalization_81 (BatchNo (None, 8, 8, 384)    1152        conv2d_81[0][0]                  \n__________________________________________________________________________________________________\nactivation_77 (Activation)      (None, 8, 8, 384)    0           batch_normalization_77[0][0]     \n__________________________________________________________________________________________________\nactivation_81 (Activation)      (None, 8, 8, 384)    0           batch_normalization_81[0][0]     \n__________________________________________________________________________________________________\nconv2d_78 (Conv2D)              (None, 8, 8, 384)    442368      activation_77[0][0]              \n__________________________________________________________________________________________________\nconv2d_79 (Conv2D)              (None, 8, 8, 384)    442368      activation_77[0][0]              \n__________________________________________________________________________________________________\nconv2d_82 (Conv2D)              (None, 8, 8, 384)    442368      activation_81[0][0]              \n__________________________________________________________________________________________________\nconv2d_83 (Conv2D)              (None, 8, 8, 384)    442368      activation_81[0][0]              \n__________________________________________________________________________________________________\naverage_pooling2d_7 (AveragePoo (None, 8, 8, 1280)   0           mixed8[0][0]                     \n__________________________________________________________________________________________________\nconv2d_76 (Conv2D)              (None, 8, 8, 320)    409600      mixed8[0][0]                     \n__________________________________________________________________________________________________\nbatch_normalization_78 (BatchNo (None, 8, 8, 384)    1152        conv2d_78[0][0]                  \n__________________________________________________________________________________________________\nbatch_normalization_79 (BatchNo (None, 8, 8, 384)    1152        conv2d_79[0][0]                  \n__________________________________________________________________________________________________\nbatch_normalization_82 (BatchNo (None, 8, 8, 384)    1152        conv2d_82[0][0]                  \n__________________________________________________________________________________________________\nbatch_normalization_83 (BatchNo (None, 8, 8, 384)    1152        conv2d_83[0][0]                  \n__________________________________________________________________________________________________\nconv2d_84 (Conv2D)              (None, 8, 8, 192)    245760      average_pooling2d_7[0][0]        \n__________________________________________________________________________________________________\nbatch_normalization_76 (BatchNo (None, 8, 8, 320)    960         conv2d_76[0][0]                  \n__________________________________________________________________________________________________\nactivation_78 (Activation)      (None, 8, 8, 384)    0           batch_normalization_78[0][0]     \n__________________________________________________________________________________________________\nactivation_79 (Activation)      (None, 8, 8, 384)    0           batch_normalization_79[0][0]     \n__________________________________________________________________________________________________\nactivation_82 (Activation)      (None, 8, 8, 384)    0           batch_normalization_82[0][0]     \n__________________________________________________________________________________________________\nactivation_83 (Activation)      (None, 8, 8, 384)    0           batch_normalization_83[0][0]     \n__________________________________________________________________________________________________\nbatch_normalization_84 (BatchNo (None, 8, 8, 192)    576         conv2d_84[0][0]                  \n__________________________________________________________________________________________________\nactivation_76 (Activation)      (None, 8, 8, 320)    0           batch_normalization_76[0][0]     \n__________________________________________________________________________________________________\nmixed9_0 (Concatenate)          (None, 8, 8, 768)    0           activation_78[0][0]              \n                                                                 activation_79[0][0]              \n__________________________________________________________________________________________________\nconcatenate (Concatenate)       (None, 8, 8, 768)    0           activation_82[0][0]              \n                                                                 activation_83[0][0]              \n__________________________________________________________________________________________________\nactivation_84 (Activation)      (None, 8, 8, 192)    0           batch_normalization_84[0][0]     \n__________________________________________________________________________________________________\nmixed9 (Concatenate)            (None, 8, 8, 2048)   0           activation_76[0][0]              \n                                                                 mixed9_0[0][0]                   \n                                                                 concatenate[0][0]                \n                                                                 activation_84[0][0]              \n__________________________________________________________________________________________________\nconv2d_89 (Conv2D)              (None, 8, 8, 448)    917504      mixed9[0][0]                     \n__________________________________________________________________________________________________\nbatch_normalization_89 (BatchNo (None, 8, 8, 448)    1344        conv2d_89[0][0]                  \n__________________________________________________________________________________________________\nactivation_89 (Activation)      (None, 8, 8, 448)    0           batch_normalization_89[0][0]     \n__________________________________________________________________________________________________\nconv2d_86 (Conv2D)              (None, 8, 8, 384)    786432      mixed9[0][0]                     \n__________________________________________________________________________________________________\nconv2d_90 (Conv2D)              (None, 8, 8, 384)    1548288     activation_89[0][0]              \n__________________________________________________________________________________________________\nbatch_normalization_86 (BatchNo (None, 8, 8, 384)    1152        conv2d_86[0][0]                  \n__________________________________________________________________________________________________\nbatch_normalization_90 (BatchNo (None, 8, 8, 384)    1152        conv2d_90[0][0]                  \n__________________________________________________________________________________________________\nactivation_86 (Activation)      (None, 8, 8, 384)    0           batch_normalization_86[0][0]     \n__________________________________________________________________________________________________\nactivation_90 (Activation)      (None, 8, 8, 384)    0           batch_normalization_90[0][0]     \n__________________________________________________________________________________________________\nconv2d_87 (Conv2D)              (None, 8, 8, 384)    442368      activation_86[0][0]              \n__________________________________________________________________________________________________\nconv2d_88 (Conv2D)              (None, 8, 8, 384)    442368      activation_86[0][0]              \n__________________________________________________________________________________________________\nconv2d_91 (Conv2D)              (None, 8, 8, 384)    442368      activation_90[0][0]              \n__________________________________________________________________________________________________\nconv2d_92 (Conv2D)              (None, 8, 8, 384)    442368      activation_90[0][0]              \n__________________________________________________________________________________________________\naverage_pooling2d_8 (AveragePoo (None, 8, 8, 2048)   0           mixed9[0][0]                     \n__________________________________________________________________________________________________\nconv2d_85 (Conv2D)              (None, 8, 8, 320)    655360      mixed9[0][0]                     \n__________________________________________________________________________________________________\nbatch_normalization_87 (BatchNo (None, 8, 8, 384)    1152        conv2d_87[0][0]                  \n__________________________________________________________________________________________________\nbatch_normalization_88 (BatchNo (None, 8, 8, 384)    1152        conv2d_88[0][0]                  \n__________________________________________________________________________________________________\nbatch_normalization_91 (BatchNo (None, 8, 8, 384)    1152        conv2d_91[0][0]                  \n__________________________________________________________________________________________________\nbatch_normalization_92 (BatchNo (None, 8, 8, 384)    1152        conv2d_92[0][0]                  \n__________________________________________________________________________________________________\nconv2d_93 (Conv2D)              (None, 8, 8, 192)    393216      average_pooling2d_8[0][0]        \n__________________________________________________________________________________________________\nbatch_normalization_85 (BatchNo (None, 8, 8, 320)    960         conv2d_85[0][0]                  \n__________________________________________________________________________________________________\nactivation_87 (Activation)      (None, 8, 8, 384)    0           batch_normalization_87[0][0]     \n__________________________________________________________________________________________________\nactivation_88 (Activation)      (None, 8, 8, 384)    0           batch_normalization_88[0][0]     \n__________________________________________________________________________________________________\nactivation_91 (Activation)      (None, 8, 8, 384)    0           batch_normalization_91[0][0]     \n__________________________________________________________________________________________________\nactivation_92 (Activation)      (None, 8, 8, 384)    0           batch_normalization_92[0][0]     \n__________________________________________________________________________________________________\nbatch_normalization_93 (BatchNo (None, 8, 8, 192)    576         conv2d_93[0][0]                  \n__________________________________________________________________________________________________\nactivation_85 (Activation)      (None, 8, 8, 320)    0           batch_normalization_85[0][0]     \n__________________________________________________________________________________________________\nmixed9_1 (Concatenate)          (None, 8, 8, 768)    0           activation_87[0][0]              \n                                                                 activation_88[0][0]              \n__________________________________________________________________________________________________\nconcatenate_1 (Concatenate)     (None, 8, 8, 768)    0           activation_91[0][0]              \n                                                                 activation_92[0][0]              \n__________________________________________________________________________________________________\nactivation_93 (Activation)      (None, 8, 8, 192)    0           batch_normalization_93[0][0]     \n__________________________________________________________________________________________________\nmixed10 (Concatenate)           (None, 8, 8, 2048)   0           activation_85[0][0]              \n                                                                 mixed9_1[0][0]                   \n                                                                 concatenate_1[0][0]              \n                                                                 activation_93[0][0]              \n__________________________________________________________________________________________________\nglobal_average_pooling2d (Globa (None, 2048)         0           mixed10[0][0]                    \n__________________________________________________________________________________________________\ndense (Dense)                   (None, 512)          1049088     global_average_pooling2d[0][0]   \n__________________________________________________________________________________________________\ndropout (Dropout)               (None, 512)          0           dense[0][0]                      \n__________________________________________________________________________________________________\ndense10 (Dense)                 (None, 2)            1026        dropout[0][0]                    \n==================================================================================================\nTotal params: 22,852,898\nTrainable params: 12,164,994\nNon-trainable params: 10,687,904\n__________________________________________________________________________________________________\n"
    }
   ],
   "source": [
    "# Load PASCAL VOC trained model, print layer names\n",
    "inceptionv3 = keras.models.load_model(\"inceptionv3_pascalvoc_0_1_1.h5\")\n",
    "x = inceptionv3.layers[-2].output\n",
    "predictions = keras.layers.Dense(2, activation='softmax', name='dense10')(x)\n",
    "new_inceptionv3 = keras.models.Model(inputs=inceptionv3.input, outputs=predictions)\n",
    "new_inceptionv3.summary()"
   ]
  },
  {
   "cell_type": "code",
   "execution_count": 11,
   "metadata": {
    "tags": []
   },
   "outputs": [
    {
     "output_type": "stream",
     "name": "stdout",
     "text": "Train for 52 steps\nEpoch 1/3\n52/52 [==============================] - 71s 1s/step - loss: 0.8639 - categorical_accuracy: 0.5000\nEpoch 2/3\n52/52 [==============================] - 69s 1s/step - loss: 0.6754 - categorical_accuracy: 0.6425\nEpoch 3/3\n52/52 [==============================] - 70s 1s/step - loss: 0.5687 - categorical_accuracy: 0.7126\n"
    }
   ],
   "source": [
    "# First: Train the new top-layer only\n",
    "# Hence, freeze all layers in pre-trained model\n",
    "for layer in inceptionv3.layers:\n",
    "    layer.trainable = False\n",
    "\n",
    "# Compile model, ready to be trained on new data\n",
    "new_inceptionv3.compile(optimizer=keras.optimizers.RMSprop(lr=0.001, rho=0.9, decay=0.0001), loss=keras.losses.CategoricalCrossentropy(), metrics=[keras.metrics.CategoricalAccuracy()])\n",
    "\n",
    "# Train the top-layer only\n",
    "e_1 = 3\n",
    "new_inceptionv3.fit(train_ds, epochs=e_1)\n",
    "new_inceptionv3.save('inceptionv3_yalecap_0_'+str(e_1)+'_0.h5')"
   ]
  },
  {
   "cell_type": "code",
   "execution_count": 14,
   "metadata": {
    "tags": []
   },
   "outputs": [
    {
     "output_type": "stream",
     "name": "stdout",
     "text": "Train for 52 steps\nEpoch 1/2\n52/52 [==============================] - 83s 2s/step - loss: 0.3561 - categorical_accuracy: 0.8527\nEpoch 2/2\n52/52 [==============================] - 78s 1s/step - loss: 0.2637 - categorical_accuracy: 0.9010\n"
    }
   ],
   "source": [
    "# Now start fine-tuning the convolutional layers, freeze the bottom N layers and train the remaining top layers\n",
    "# Choose N layers to freeze and unfreeze the rest\n",
    "N = 249\n",
    "for layer in new_inceptionv3.layers[:N]:\n",
    "    layer.trainable = False\n",
    "for layer in new_inceptionv3.layers[N:]:\n",
    "    layer.trainable = True\n",
    "    \n",
    "# Recompile model for modifications to take effect\n",
    "# Use Stochastic Gradient Descent with a Low learning rate this time\n",
    "new_inceptionv3.compile(optimizer=keras.optimizers.SGD(lr=0.0001, momentum=0.9, decay=0.00001), loss=keras.losses.CategoricalCrossentropy(), metrics=[keras.metrics.CategoricalAccuracy()])\n",
    "\n",
    "# Train the model again, this time fine-tuning some inception blocks alongside new top layers\n",
    "e_2 = 3\n",
    "new_inceptionv3.fit(train_ds, epochs=e_2)\n",
    "new_inceptionv3.save('inceptionv3_yalecap_0_'+str(e_1)+'_'+str(e_2)+'.h5')"
   ]
  },
  {
   "cell_type": "code",
   "execution_count": 15,
   "metadata": {
    "tags": []
   },
   "outputs": [
    {
     "output_type": "stream",
     "name": "stdout",
     "text": "4/4 [==============================] - 4s 938ms/step - loss: 0.5254 - categorical_accuracy: 0.7188\n[0.5253678038716316, 0.71875]\n"
    }
   ],
   "source": [
    "# Evaluate the model\n",
    "eval = new_inceptionv3.evaluate(test_ds)\n",
    "print(eval)"
   ]
  },
  {
   "cell_type": "code",
   "execution_count": null,
   "metadata": {},
   "outputs": [],
   "source": []
  }
 ],
 "metadata": {
  "kernelspec": {
   "display_name": "Python 3",
   "language": "python",
   "name": "python3"
  },
  "language_info": {
   "codemirror_mode": {
    "name": "ipython",
    "version": 3
   },
   "file_extension": ".py",
   "mimetype": "text/x-python",
   "name": "python",
   "nbconvert_exporter": "python",
   "pygments_lexer": "ipython3",
   "version": "3.7.7-final"
  }
 },
 "nbformat": 4,
 "nbformat_minor": 2
}